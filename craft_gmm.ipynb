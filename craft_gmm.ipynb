{
 "cells": [
  {
   "cell_type": "markdown",
   "id": "5782cbbb",
   "metadata": {
    "colab_type": "text",
    "id": "view-in-github"
   },
   "source": [
    "<a href=\"https://colab.research.google.com/github/lollcat/annealed_flow_transport/blob/craft-update/craft_gmm.ipynb\" target=\"_parent\"><img src=\"https://colab.research.google.com/assets/colab-badge.svg\" alt=\"Open In Colab\"/></a>"
   ]
  },
  {
   "cell_type": "markdown",
   "id": "23758c98",
   "metadata": {},
   "source": [
    "## Colab setup\n",
    "If not using colab, then skip this section."
   ]
  },
  {
   "cell_type": "code",
   "execution_count": null,
   "id": "vuEbAYGoPfmN",
   "metadata": {
    "colab": {
     "base_uri": "https://localhost:8080/"
    },
    "id": "vuEbAYGoPfmN",
    "outputId": "a56ff888-467b-4a59-edcd-0571f7b35d4c"
   },
   "outputs": [],
   "source": [
    "!git clone https://github.com/lollcat/annealed_flow_transport.git"
   ]
  },
  {
   "cell_type": "code",
   "execution_count": null,
   "id": "Ux9zmfvhQ4d-",
   "metadata": {
    "id": "Ux9zmfvhQ4d-"
   },
   "outputs": [],
   "source": [
    "import os\n",
    "os.chdir(\"annealed_flow_transport\")"
   ]
  },
  {
   "cell_type": "code",
   "execution_count": null,
   "id": "cHyJ_E17Terb",
   "metadata": {
    "id": "cHyJ_E17Terb"
   },
   "outputs": [],
   "source": [
    "!pip install chex==0.1.5 ml_collections optax dm-haiku distrax -q"
   ]
  },
  {
   "cell_type": "markdown",
   "id": "8a2c4f1f",
   "metadata": {},
   "source": [
    "## Imports"
   ]
  },
  {
   "cell_type": "code",
   "execution_count": null,
   "id": "qI1QyEWqRQMP",
   "metadata": {
    "id": "qI1QyEWqRQMP"
   },
   "outputs": [],
   "source": [
    "from annealed_flow_transport.train import run_experiment\n",
    "from evaluation import make_forward_pass_func, load_checkpoint\n",
    "from evaluation import evaluate_mog as evaluate\n",
    "import numpy as np\n",
    "import numpy as np\n",
    "import jax"
   ]
  },
  {
   "cell_type": "code",
   "execution_count": null,
   "id": "fe31070d",
   "metadata": {
    "id": "fe31070d"
   },
   "outputs": [],
   "source": [
    "from jax.config import config\n",
    "config.update(\"jax_enable_x64\", True)"
   ]
  },
  {
   "cell_type": "code",
   "execution_count": null,
   "id": "e3b23b93",
   "metadata": {
    "id": "e3b23b93"
   },
   "outputs": [],
   "source": [
    "from configs.fab_mog import get_config"
   ]
  },
  {
   "cell_type": "code",
   "execution_count": null,
   "id": "571ce516",
   "metadata": {
    "id": "571ce516"
   },
   "outputs": [],
   "source": [
    "exp_config = get_config()"
   ]
  },
  {
   "cell_type": "markdown",
   "id": "ewKeZE6icc3q",
   "metadata": {
    "id": "ewKeZE6icc3q"
   },
   "source": [
    "# Train"
   ]
  },
  {
   "cell_type": "markdown",
   "id": "kNGa3KhqdWue",
   "metadata": {
    "id": "kNGa3KhqdWue"
   },
   "source": [
    "### Run first seed"
   ]
  },
  {
   "cell_type": "code",
   "execution_count": null,
   "id": "ge1JXJk-q2Hh",
   "metadata": {
    "id": "ge1JXJk-q2Hh"
   },
   "outputs": [],
   "source": [
    "exp_config.seed = 1\n",
    "exp_config.params_filename = \"checkpoint_seed1\""
   ]
  },
  {
   "cell_type": "code",
   "execution_count": null,
   "id": "2ccdf2d9",
   "metadata": {
    "colab": {
     "base_uri": "https://localhost:8080/",
     "height": 693
    },
    "id": "2ccdf2d9",
    "outputId": "10595517-3c17-4b80-8b4c-ae76844b686b"
   },
   "outputs": [],
   "source": [
    "results = run_experiment(exp_config)"
   ]
  },
  {
   "cell_type": "code",
   "execution_count": null,
   "id": "6p1M3VLgV_tn",
   "metadata": {
    "colab": {
     "base_uri": "https://localhost:8080/"
    },
    "id": "6p1M3VLgV_tn",
    "outputId": "679c1665-ea0a-4ebf-8e04-4287c4932056"
   },
   "outputs": [],
   "source": [
    "filename = \"checkpoint_seed1\"\n",
    "transition_params = load_checkpoint(filename)\n",
    "forward_pass_function = make_forward_pass_func(exp_config, transition_params=transition_params)\n",
    "eval_info = evaluate(forward_pass_function)\n",
    "print(eval_info)"
   ]
  },
  {
   "cell_type": "code",
   "execution_count": null,
   "id": "BlnFe0rkYUAT",
   "metadata": {
    "id": "BlnFe0rkYUAT"
   },
   "outputs": [],
   "source": [
    "import numpy as np\n",
    "import jax\n",
    "particle_state = forward_pass_function(jax.random.PRNGKey(0))\n",
    "samples = np.array(particle_state.samples)\n",
    "np.save(open(f\"samples_seed{exp_config.seed}.np\", \"wb\"), samples)"
   ]
  },
  {
   "cell_type": "markdown",
   "id": "pg2breeUdaVi",
   "metadata": {
    "id": "pg2breeUdaVi"
   },
   "source": [
    "### Run second seed"
   ]
  },
  {
   "cell_type": "code",
   "execution_count": null,
   "id": "uXWWpFBideOn",
   "metadata": {
    "id": "uXWWpFBideOn"
   },
   "outputs": [],
   "source": [
    "exp_config.seed = 2\n",
    "exp_config.params_filename = \"checkpoint_seed2\""
   ]
  },
  {
   "cell_type": "code",
   "execution_count": null,
   "id": "T11897uidaVi",
   "metadata": {
    "colab": {
     "base_uri": "https://localhost:8080/",
     "height": 1000
    },
    "id": "T11897uidaVi",
    "outputId": "410b04d3-1d1c-4299-84ad-b6d5c4c4667a"
   },
   "outputs": [],
   "source": [
    "results = run_experiment(exp_config)"
   ]
  },
  {
   "cell_type": "code",
   "execution_count": null,
   "id": "ZvbpFHn5daVj",
   "metadata": {
    "colab": {
     "base_uri": "https://localhost:8080/"
    },
    "id": "ZvbpFHn5daVj",
    "outputId": "0afb93a0-a0c1-46e5-cb8f-85a3d822017f"
   },
   "outputs": [],
   "source": [
    "filename = \"checkpoint_seed2\"\n",
    "transition_params = load_checkpoint(filename)\n",
    "forward_pass_function = make_forward_pass_func(exp_config, transition_params=transition_params)\n",
    "eval_info = evaluate(forward_pass_function)\n",
    "print(eval_info)"
   ]
  },
  {
   "cell_type": "code",
   "execution_count": null,
   "id": "aYfLgfUYdaVn",
   "metadata": {
    "id": "aYfLgfUYdaVn"
   },
   "outputs": [],
   "source": [
    "particle_state = forward_pass_function(jax.random.PRNGKey(0))\n",
    "samples = np.array(particle_state.samples)\n",
    "np.save(open(f\"samples_seed{exp_config.seed}.np\", \"wb\"), samples)"
   ]
  },
  {
   "cell_type": "markdown",
   "id": "xzthbItEjCqV",
   "metadata": {
    "id": "xzthbItEjCqV"
   },
   "source": [
    "### Run third seed"
   ]
  },
  {
   "cell_type": "code",
   "execution_count": null,
   "id": "NCLvMlgYjCqV",
   "metadata": {
    "id": "NCLvMlgYjCqV"
   },
   "outputs": [],
   "source": [
    "exp_config.seed = 3\n",
    "exp_config.params_filename = \"checkpoint_seed3\""
   ]
  },
  {
   "cell_type": "code",
   "execution_count": null,
   "id": "-Ymei2RejCqV",
   "metadata": {
    "colab": {
     "base_uri": "https://localhost:8080/",
     "height": 1000
    },
    "id": "-Ymei2RejCqV",
    "outputId": "7aa924a3-f498-4bd9-f5d6-abc21fcd20d8"
   },
   "outputs": [],
   "source": [
    "results = run_experiment(exp_config)"
   ]
  },
  {
   "cell_type": "code",
   "execution_count": null,
   "id": "CBcIricJjCqW",
   "metadata": {
    "colab": {
     "base_uri": "https://localhost:8080/"
    },
    "id": "CBcIricJjCqW",
    "outputId": "5f9c1d52-2730-4260-b9db-899ec779399b"
   },
   "outputs": [],
   "source": [
    "filename = \"checkpoint_seed3\"\n",
    "transition_params = load_checkpoint(filename)\n",
    "forward_pass_function = make_forward_pass_func(exp_config, transition_params=transition_params)\n",
    "eval_info = evaluate(forward_pass_function)\n",
    "print(eval_info)"
   ]
  },
  {
   "cell_type": "code",
   "execution_count": null,
   "id": "8En2EVaxjCqW",
   "metadata": {
    "id": "8En2EVaxjCqW"
   },
   "outputs": [],
   "source": [
    "particle_state = forward_pass_function(jax.random.PRNGKey(0))\n",
    "samples = np.array(particle_state.samples)\n",
    "np.save(open(f\"samples_seed{exp_config.seed}.np\", \"wb\"), samples)"
   ]
  },
  {
   "cell_type": "markdown",
   "id": "GTq55FuOCFxO",
   "metadata": {
    "id": "GTq55FuOCFxO"
   },
   "source": [
    "# Evaluation of trained models"
   ]
  },
  {
   "cell_type": "code",
   "execution_count": null,
   "id": "9nzNwqvcCHl_",
   "metadata": {
    "colab": {
     "base_uri": "https://localhost:8080/",
     "height": 356
    },
    "id": "9nzNwqvcCHl_",
    "outputId": "d4765c49-2476-4aec-929a-137fe1f08842"
   },
   "outputs": [],
   "source": [
    "filename = \"checkpoint_seed1\"\n",
    "transition_params = load_checkpoint(filename)\n",
    "forward_pass_function = make_forward_pass_func(exp_config, transition_params=transition_params)\n",
    "eval_info_seed1 = evaluate(forward_pass_function)\n",
    "print(eval_info_seed1)"
   ]
  },
  {
   "cell_type": "code",
   "execution_count": null,
   "id": "eDJ5ubMyCQYv",
   "metadata": {
    "colab": {
     "base_uri": "https://localhost:8080/"
    },
    "id": "eDJ5ubMyCQYv",
    "outputId": "326f8f25-206c-4e9e-ad4f-8b4b3bdd6214"
   },
   "outputs": [],
   "source": [
    "filename = \"checkpoint_seed2\"\n",
    "transition_params = load_checkpoint(filename)\n",
    "forward_pass_function = make_forward_pass_func(exp_config, transition_params=transition_params)\n",
    "eval_info_seed2 = evaluate(forward_pass_function)\n",
    "print(eval_info_seed2)"
   ]
  },
  {
   "cell_type": "code",
   "execution_count": null,
   "id": "6QlDdRpeCSjZ",
   "metadata": {
    "colab": {
     "base_uri": "https://localhost:8080/"
    },
    "id": "6QlDdRpeCSjZ",
    "outputId": "ae6c279a-a667-44ec-9391-a1ccf29b5b91"
   },
   "outputs": [],
   "source": [
    "filename = \"checkpoint_seed3\"\n",
    "transition_params = load_checkpoint(filename)\n",
    "forward_pass_function = make_forward_pass_func(exp_config, transition_params=transition_params)\n",
    "eval_info_seed3 = evaluate(forward_pass_function)\n",
    "print(eval_info_seed3)"
   ]
  },
  {
   "cell_type": "code",
   "execution_count": null,
   "id": "t6abJOOjCaj2",
   "metadata": {
    "id": "t6abJOOjCaj2"
   },
   "outputs": [],
   "source": [
    "eval_info = {key: np.asarray([eval_info_seed1[key], eval_info_seed2[key], eval_info_seed3[key]]) for key in eval_info_seed1.keys()}"
   ]
  },
  {
   "cell_type": "code",
   "execution_count": null,
   "id": "dpmhZ88FCXKn",
   "metadata": {
    "colab": {
     "base_uri": "https://localhost:8080/"
    },
    "id": "dpmhZ88FCXKn",
    "outputId": "a2baf001-f837-4c0e-b074-ac5ae7f31626"
   },
   "outputs": [],
   "source": [
    "{key: np.mean(val) for key, val in eval_info.items()}"
   ]
  },
  {
   "cell_type": "code",
   "execution_count": null,
   "id": "aaBuL7YiDirN",
   "metadata": {
    "id": "aaBuL7YiDirN"
   },
   "outputs": [],
   "source": [
    "import scipy"
   ]
  },
  {
   "cell_type": "code",
   "execution_count": null,
   "id": "cHhrhBc6C0vO",
   "metadata": {
    "colab": {
     "base_uri": "https://localhost:8080/"
    },
    "id": "cHhrhBc6C0vO",
    "outputId": "7ac2d69a-095f-4ca2-84d5-53e533f1f2a7"
   },
   "outputs": [],
   "source": [
    "{key: scipy.stats.sem(val, ddof=0) for key, val in eval_info.items()}"
   ]
  }
 ],
 "metadata": {
  "accelerator": "GPU",
  "colab": {
   "include_colab_link": true,
   "provenance": []
  },
  "gpuClass": "standard",
  "kernelspec": {
   "display_name": "Python 3 (ipykernel)",
   "language": "python",
   "name": "python3"
  },
  "language_info": {
   "codemirror_mode": {
    "name": "ipython",
    "version": 3
   },
   "file_extension": ".py",
   "mimetype": "text/x-python",
   "name": "python",
   "nbconvert_exporter": "python",
   "pygments_lexer": "ipython3",
   "version": "3.10.8"
  }
 },
 "nbformat": 4,
 "nbformat_minor": 5
}
